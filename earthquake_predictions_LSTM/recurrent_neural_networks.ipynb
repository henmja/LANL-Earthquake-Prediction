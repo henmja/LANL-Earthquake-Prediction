{
 "cells": [
  {
   "cell_type": "markdown",
   "metadata": {},
   "source": [
    "### Training and prediction functions"
   ]
  },
  {
   "cell_type": "code",
   "execution_count": 4,
   "metadata": {},
   "outputs": [
    {
     "name": "stderr",
     "output_type": "stream",
     "text": [
      "Using TensorFlow backend.\n"
     ]
    }
   ],
   "source": [
    "import numpy as np\n",
    "import pandas as pd\n",
    "from sklearn.preprocessing import MinMaxScaler\n",
    "from tensorflow.contrib.rnn import *\n",
    "from keras.models import Sequential\n",
    "from keras.layers import Dense, CuDNNGRU, Dropout, LSTM, Flatten, CuDNNLSTM\n",
    "from keras.optimizers import adam\n",
    "\n",
    "\n",
    "class RNN:\n",
    "    def __init__(self, num_features: int):\n",
    "        self.history = None\n",
    "        self.num_features = num_features\n",
    "        self.scaler = MinMaxScaler(feature_range=(0, self.num_features))\n",
    "\n",
    "        self.model = Sequential()\n",
    "        self.model.add(LSTM(64, input_shape=(self.num_features, 1)))\n",
    "        self.model.add(Dense(32, activation='relu'))\n",
    "        self.model.add(Dense(1))\n",
    "        self.model.compile(optimizer=adam(lr=0.005), loss=\"mae\")\n",
    "\n",
    "    def train(self, data, batch_size: int = 32, epochs: int = 20):\n",
    "        feature_train, target_train = self.generate_feature_and_target(data)\n",
    "        self.history = self.model.fit(feature_train, target_train, epochs=epochs, batch_size=batch_size)\n",
    "        return self.history\n",
    "\n",
    "    def forecast(self, feature: pd.core.frame.DataFrame):\n",
    "        feature_test = feature.reshape(-1, self.num_features)\n",
    "        scaled = self.scaler.transform(feature_test)\n",
    "\n",
    "        feature_test = np.array(scaled[:, :self.num_features])\n",
    "        feature_test = np.reshape(feature_test, (feature_test.shape[0], feature_test.shape[1], 1))\n",
    "\n",
    "        forecasts = self.model.predict(feature_test)\n",
    "        return forecasts[-1]\n",
    "\n",
    "    def generate_feature_and_target(self, data: pd.core.frame.DataFrame):\n",
    "        feature_train = self.scaler.fit_transform(data[:, :self.num_features])\n",
    "        feature_train, target_train = np.array(feature_train[:, :self.num_features]), np.array(data[:, self.num_features])\n",
    "\n",
    "        feature_train = np.reshape(feature_train, (feature_train.shape[0], feature_train.shape[1], 1))\n",
    "\n",
    "        return feature_train, target_train"
   ]
  }
 ],
 "metadata": {
  "kernelspec": {
   "display_name": "Python 3",
   "language": "python",
   "name": "python3"
  },
  "language_info": {
   "codemirror_mode": {
    "name": "ipython",
    "version": 3
   },
   "file_extension": ".py",
   "mimetype": "text/x-python",
   "name": "python",
   "nbconvert_exporter": "python",
   "pygments_lexer": "ipython3",
   "version": "3.7.1"
  }
 },
 "nbformat": 4,
 "nbformat_minor": 2
}
