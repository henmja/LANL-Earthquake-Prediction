{
 "cells": [
  {
   "cell_type": "markdown",
   "metadata": {},
   "source": [
    "### Training and prediction functions"
   ]
  },
  {
   "cell_type": "code",
   "execution_count": 1,
   "metadata": {},
   "outputs": [],
   "source": [
    "from sklearn.model_selection import GridSearchCV\n",
    "from sklearn.ensemble import RandomForestRegressor\n",
    "from sklearn.preprocessing import MinMaxScaler\n",
    "import numpy as np\n",
    "import pandas as pd\n",
    "\n",
    "\n",
    "class RF:\n",
    "    \n",
    "    parameters1 = {'max_depth': [10, 20, 30],\n",
    "                   'n_estimators': [100, 500, 1000],\n",
    "                   'max_features' : [15, 20, 25, 30],\n",
    "                   'min_samples_leaf': [1, 2, 4],\n",
    "                   'min_samples_split': [2, 5, 10],\n",
    "                   'bootstrap': [True, False],\n",
    "                  }\n",
    "    \n",
    "    parameters2 = {'max_depth': [5, 10, 20, 30],\n",
    "                   'n_estimators': [10, 50, 100, 1000],\n",
    "                   'max_features' : [20, 40, 70],\n",
    "                   'min_samples_leaf': [1, 2, 4],\n",
    "                   'min_samples_split': [2, 5, 10],\n",
    "                   'bootstrap': [True, False],\n",
    "                  }\n",
    "    \n",
    "    parameters3 = {'max_depth': [3, 5, 10, 15],\n",
    "                   'n_estimators': [50, 100, 500, 1000],\n",
    "                   'max_features' : [10, 15, 20],\n",
    "                   'min_samples_leaf': [1, 2, 4],\n",
    "                   'min_samples_split': [2, 5, 10],\n",
    "                   'bootstrap': [True, False],\n",
    "                  }\n",
    "    \n",
    "    parameters = parameters1\n",
    "    \n",
    "    def __init__(self, num_features: int):\n",
    "        self.history = None\n",
    "        self.num_features = num_features\n",
    "        self.scaler = MinMaxScaler()\n",
    "        self.gsc = GridSearchCV(estimator = RandomForestRegressor(),\n",
    "                                param_grid = self.parameters,\n",
    "                                cv = 5, scoring = 'neg_mean_squared_error', verbose = 0, n_jobs = -1)\n",
    "           \n",
    "    def generate_feature_and_target(self, data: pd.core.frame.DataFrame):\n",
    "        feature_train = self.scaler.fit_transform(data[:, :self.num_features])\n",
    "        target_train = np.array(data[:, self.num_features])\n",
    "\n",
    "        return feature_train, target_train\n",
    "    \n",
    "    def best_rf(self, data: pd.core.frame.DataFrame):\n",
    "        feature_train, target_train = self.generate_feature_and_target(data)\n",
    "        best_rf = self.gsc.fit(feature_train, target_train)\n",
    "        best_estimator = best_rf.best_estimator_\n",
    "        \n",
    "        return best_rf, best_estimator"
   ]
  },
  {
   "cell_type": "code",
   "execution_count": 1,
   "metadata": {},
   "outputs": [],
   "source": [
    "def forecast(model, scaler, test_data):\n",
    "    submission = pd.read_csv('C:/data/sample_submission.csv', index_col='seg_id', dtype={\"time_to_failure\": np.float64})\n",
    "    feature_test = scaler.transform(np.array(test_data))\n",
    "    for i in range(test_data.shape[0]):\n",
    "        submission.time_to_failure[i] = model.predict(feature_test[i, :].reshape(1, -1))\n",
    "\n",
    "    submission.to_csv('submission.csv')"
   ]
  },
  {
   "cell_type": "code",
   "execution_count": null,
   "metadata": {},
   "outputs": [],
   "source": []
  }
 ],
 "metadata": {
  "kernelspec": {
   "display_name": "Python 3",
   "language": "python",
   "name": "python3"
  },
  "language_info": {
   "codemirror_mode": {
    "name": "ipython",
    "version": 3
   },
   "file_extension": ".py",
   "mimetype": "text/x-python",
   "name": "python",
   "nbconvert_exporter": "python",
   "pygments_lexer": "ipython3",
   "version": "3.6.5"
  }
 },
 "nbformat": 4,
 "nbformat_minor": 2
}
