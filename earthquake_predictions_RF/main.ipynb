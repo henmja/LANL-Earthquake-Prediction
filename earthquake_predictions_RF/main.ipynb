{
 "cells": [
  {
   "cell_type": "markdown",
   "metadata": {},
   "source": [
    "### Install and import modules"
   ]
  },
  {
   "cell_type": "code",
   "execution_count": 1,
   "metadata": {},
   "outputs": [],
   "source": [
    "import numpy as np\n",
    "import pandas as pd\n",
    "from ipynb.fs.full.plot import generate_plot\n",
    "from ipynb.fs.full.preprocessing import *\n",
    "from ipynb.fs.full.random_forest import *"
   ]
  },
  {
   "cell_type": "markdown",
   "metadata": {},
   "source": [
    "### Train model and forecast time to earthquakes"
   ]
  },
  {
   "cell_type": "code",
   "execution_count": 2,
   "metadata": {},
   "outputs": [],
   "source": [
    "training_set = pd.read_csv('C:/data/train.csv', dtype={'acoustic_data': np.int16, 'time_to_failure': np.float64})"
   ]
  },
  {
   "cell_type": "code",
   "execution_count": 3,
   "metadata": {},
   "outputs": [
    {
     "name": "stderr",
     "output_type": "stream",
     "text": [
      "C:\\Users\\MyPC\\Anaconda3\\lib\\site-packages\\matplotlib\\cbook\\__init__.py:424: MatplotlibDeprecationWarning: \n",
      "Passing one of 'on', 'true', 'off', 'false' as a boolean is deprecated; use an actual boolean (True/False) instead.\n",
      "  warn_deprecated(\"2.2\", \"Passing one of 'on', 'true', 'off', 'false' as a \"\n"
     ]
    },
    {
     "name": "stdout",
     "output_type": "stream",
     "text": [
      "Plot Generated\n"
     ]
    }
   ],
   "source": [
    "#generate_plot(training_set[:9_000_000])\n",
    "generate_plot(training_set)\n",
    "print('Plot Generated')"
   ]
  },
  {
   "cell_type": "code",
   "execution_count": 4,
   "metadata": {},
   "outputs": [],
   "source": [
    "# Add statistical summaries and do segmentation\n",
    "failure_times = get_failure_times(training_set, 150_000)"
   ]
  },
  {
   "cell_type": "code",
   "execution_count": 5,
   "metadata": {},
   "outputs": [
    {
     "data": {
      "text/html": [
       "<div>\n",
       "<style scoped>\n",
       "    .dataframe tbody tr th:only-of-type {\n",
       "        vertical-align: middle;\n",
       "    }\n",
       "\n",
       "    .dataframe tbody tr th {\n",
       "        vertical-align: top;\n",
       "    }\n",
       "\n",
       "    .dataframe thead th {\n",
       "        text-align: right;\n",
       "    }\n",
       "</style>\n",
       "<table border=\"1\" class=\"dataframe\">\n",
       "  <thead>\n",
       "    <tr style=\"text-align: right;\">\n",
       "      <th></th>\n",
       "      <th>mean</th>\n",
       "      <th>std</th>\n",
       "      <th>min</th>\n",
       "      <th>max</th>\n",
       "      <th>abs_mean</th>\n",
       "      <th>abs_std</th>\n",
       "      <th>abs_min</th>\n",
       "      <th>abs_max</th>\n",
       "      <th>q95</th>\n",
       "      <th>q99</th>\n",
       "      <th>...</th>\n",
       "      <th>std_int_mean1000</th>\n",
       "      <th>min_int_mean1000</th>\n",
       "      <th>max_int_mean1000</th>\n",
       "      <th>q95_int_mean1000</th>\n",
       "      <th>q99_int_mean1000</th>\n",
       "      <th>q05_int_mean1000</th>\n",
       "      <th>q01_int_mean1000</th>\n",
       "      <th>change_abs_int_mean1000</th>\n",
       "      <th>change_rate_int_mean1000</th>\n",
       "      <th>time_to_failure</th>\n",
       "    </tr>\n",
       "  </thead>\n",
       "  <tbody>\n",
       "    <tr>\n",
       "      <th>0</th>\n",
       "      <td>4.884113</td>\n",
       "      <td>5.101106</td>\n",
       "      <td>-98.0</td>\n",
       "      <td>104.0</td>\n",
       "      <td>5.576567</td>\n",
       "      <td>4.333325</td>\n",
       "      <td>0.0</td>\n",
       "      <td>104.0</td>\n",
       "      <td>11.0</td>\n",
       "      <td>18.0</td>\n",
       "      <td>...</td>\n",
       "      <td>0.295715</td>\n",
       "      <td>3.896</td>\n",
       "      <td>5.629</td>\n",
       "      <td>5.338</td>\n",
       "      <td>5.484</td>\n",
       "      <td>4.379</td>\n",
       "      <td>4.072</td>\n",
       "      <td>74222.343443</td>\n",
       "      <td>5.629</td>\n",
       "      <td>1.430797</td>\n",
       "    </tr>\n",
       "    <tr>\n",
       "      <th>1</th>\n",
       "      <td>4.725767</td>\n",
       "      <td>6.588824</td>\n",
       "      <td>-154.0</td>\n",
       "      <td>181.0</td>\n",
       "      <td>5.734167</td>\n",
       "      <td>5.732777</td>\n",
       "      <td>0.0</td>\n",
       "      <td>181.0</td>\n",
       "      <td>12.0</td>\n",
       "      <td>21.0</td>\n",
       "      <td>...</td>\n",
       "      <td>0.231587</td>\n",
       "      <td>3.412</td>\n",
       "      <td>5.667</td>\n",
       "      <td>5.066</td>\n",
       "      <td>5.223</td>\n",
       "      <td>4.345</td>\n",
       "      <td>4.233</td>\n",
       "      <td>74364.426478</td>\n",
       "      <td>5.667</td>\n",
       "      <td>1.391499</td>\n",
       "    </tr>\n",
       "    <tr>\n",
       "      <th>2</th>\n",
       "      <td>4.906393</td>\n",
       "      <td>6.967397</td>\n",
       "      <td>-106.0</td>\n",
       "      <td>140.0</td>\n",
       "      <td>6.152647</td>\n",
       "      <td>5.895945</td>\n",
       "      <td>0.0</td>\n",
       "      <td>140.0</td>\n",
       "      <td>13.0</td>\n",
       "      <td>26.0</td>\n",
       "      <td>...</td>\n",
       "      <td>0.267012</td>\n",
       "      <td>4.055</td>\n",
       "      <td>5.957</td>\n",
       "      <td>5.344</td>\n",
       "      <td>5.486</td>\n",
       "      <td>4.446</td>\n",
       "      <td>4.239</td>\n",
       "      <td>74594.984584</td>\n",
       "      <td>5.957</td>\n",
       "      <td>1.353196</td>\n",
       "    </tr>\n",
       "    <tr>\n",
       "      <th>3</th>\n",
       "      <td>4.902240</td>\n",
       "      <td>6.922305</td>\n",
       "      <td>-199.0</td>\n",
       "      <td>197.0</td>\n",
       "      <td>5.933960</td>\n",
       "      <td>6.061214</td>\n",
       "      <td>0.0</td>\n",
       "      <td>199.0</td>\n",
       "      <td>12.0</td>\n",
       "      <td>22.0</td>\n",
       "      <td>...</td>\n",
       "      <td>0.266700</td>\n",
       "      <td>3.722</td>\n",
       "      <td>5.858</td>\n",
       "      <td>5.317</td>\n",
       "      <td>5.453</td>\n",
       "      <td>4.433</td>\n",
       "      <td>4.304</td>\n",
       "      <td>74333.143623</td>\n",
       "      <td>5.858</td>\n",
       "      <td>1.313798</td>\n",
       "    </tr>\n",
       "    <tr>\n",
       "      <th>4</th>\n",
       "      <td>4.908720</td>\n",
       "      <td>7.301110</td>\n",
       "      <td>-126.0</td>\n",
       "      <td>145.0</td>\n",
       "      <td>6.110587</td>\n",
       "      <td>6.329485</td>\n",
       "      <td>0.0</td>\n",
       "      <td>145.0</td>\n",
       "      <td>12.0</td>\n",
       "      <td>26.0</td>\n",
       "      <td>...</td>\n",
       "      <td>0.228005</td>\n",
       "      <td>3.918</td>\n",
       "      <td>6.078</td>\n",
       "      <td>5.306</td>\n",
       "      <td>5.491</td>\n",
       "      <td>4.543</td>\n",
       "      <td>4.434</td>\n",
       "      <td>74428.435969</td>\n",
       "      <td>6.078</td>\n",
       "      <td>1.274400</td>\n",
       "    </tr>\n",
       "  </tbody>\n",
       "</table>\n",
       "<p>5 rows × 94 columns</p>\n",
       "</div>"
      ],
      "text/plain": [
       "       mean       std    min    max  abs_mean   abs_std  abs_min  abs_max  \\\n",
       "0  4.884113  5.101106  -98.0  104.0  5.576567  4.333325      0.0    104.0   \n",
       "1  4.725767  6.588824 -154.0  181.0  5.734167  5.732777      0.0    181.0   \n",
       "2  4.906393  6.967397 -106.0  140.0  6.152647  5.895945      0.0    140.0   \n",
       "3  4.902240  6.922305 -199.0  197.0  5.933960  6.061214      0.0    199.0   \n",
       "4  4.908720  7.301110 -126.0  145.0  6.110587  6.329485      0.0    145.0   \n",
       "\n",
       "    q95   q99       ...         std_int_mean1000  min_int_mean1000  \\\n",
       "0  11.0  18.0       ...                 0.295715             3.896   \n",
       "1  12.0  21.0       ...                 0.231587             3.412   \n",
       "2  13.0  26.0       ...                 0.267012             4.055   \n",
       "3  12.0  22.0       ...                 0.266700             3.722   \n",
       "4  12.0  26.0       ...                 0.228005             3.918   \n",
       "\n",
       "   max_int_mean1000  q95_int_mean1000  q99_int_mean1000  q05_int_mean1000  \\\n",
       "0             5.629             5.338             5.484             4.379   \n",
       "1             5.667             5.066             5.223             4.345   \n",
       "2             5.957             5.344             5.486             4.446   \n",
       "3             5.858             5.317             5.453             4.433   \n",
       "4             6.078             5.306             5.491             4.543   \n",
       "\n",
       "   q01_int_mean1000  change_abs_int_mean1000  change_rate_int_mean1000  \\\n",
       "0             4.072             74222.343443                     5.629   \n",
       "1             4.233             74364.426478                     5.667   \n",
       "2             4.239             74594.984584                     5.957   \n",
       "3             4.304             74333.143623                     5.858   \n",
       "4             4.434             74428.435969                     6.078   \n",
       "\n",
       "   time_to_failure  \n",
       "0         1.430797  \n",
       "1         1.391499  \n",
       "2         1.353196  \n",
       "3         1.313798  \n",
       "4         1.274400  \n",
       "\n",
       "[5 rows x 94 columns]"
      ]
     },
     "execution_count": 5,
     "metadata": {},
     "output_type": "execute_result"
    }
   ],
   "source": [
    "failure_times.head()"
   ]
  },
  {
   "cell_type": "code",
   "execution_count": 6,
   "metadata": {},
   "outputs": [],
   "source": [
    "training_set = failure_times.values\n",
    "feature_count = training_set.shape[-1]-1"
   ]
  },
  {
   "cell_type": "code",
   "execution_count": 7,
   "metadata": {},
   "outputs": [],
   "source": [
    "rf = RF(feature_count)"
   ]
  },
  {
   "cell_type": "code",
   "execution_count": 8,
   "metadata": {},
   "outputs": [],
   "source": [
    "# Min Max Scaling\n",
    "feature_train, target_train = rf.generate_feature_and_target(training_set)"
   ]
  },
  {
   "cell_type": "code",
   "execution_count": 9,
   "metadata": {},
   "outputs": [
    {
     "name": "stdout",
     "output_type": "stream",
     "text": [
      "Wall time: 10h 26min 25s\n"
     ]
    }
   ],
   "source": [
    "%%time\n",
    "# Grid Search: best_rf\n",
    "# Best RF: best_estimator\n",
    "best_rf, best_estimator = rf.best_rf(training_set)"
   ]
  },
  {
   "cell_type": "code",
   "execution_count": 10,
   "metadata": {},
   "outputs": [
    {
     "data": {
      "text/plain": [
       "RandomForestRegressor(bootstrap=True, criterion='mse', max_depth=10,\n",
       "           max_features=15, max_leaf_nodes=None, min_impurity_decrease=0.0,\n",
       "           min_impurity_split=None, min_samples_leaf=1,\n",
       "           min_samples_split=2, min_weight_fraction_leaf=0.0,\n",
       "           n_estimators=1000, n_jobs=None, oob_score=False,\n",
       "           random_state=None, verbose=0, warm_start=False)"
      ]
     },
     "execution_count": 10,
     "metadata": {},
     "output_type": "execute_result"
    }
   ],
   "source": [
    "best_estimator.fit(feature_train, target_train)"
   ]
  },
  {
   "cell_type": "code",
   "execution_count": 11,
   "metadata": {},
   "outputs": [],
   "source": [
    "# Add statistical summaried to test segments\n",
    "feature_test = generate_test_feature()"
   ]
  },
  {
   "cell_type": "code",
   "execution_count": 12,
   "metadata": {},
   "outputs": [],
   "source": [
    "forecast(best_estimator, rf.scaler, feature_test)"
   ]
  },
  {
   "cell_type": "code",
   "execution_count": null,
   "metadata": {},
   "outputs": [],
   "source": []
  }
 ],
 "metadata": {
  "kernelspec": {
   "display_name": "Python 3",
   "language": "python",
   "name": "python3"
  },
  "language_info": {
   "codemirror_mode": {
    "name": "ipython",
    "version": 3
   },
   "file_extension": ".py",
   "mimetype": "text/x-python",
   "name": "python",
   "nbconvert_exporter": "python",
   "pygments_lexer": "ipython3",
   "version": "3.6.5"
  }
 },
 "nbformat": 4,
 "nbformat_minor": 2
}
