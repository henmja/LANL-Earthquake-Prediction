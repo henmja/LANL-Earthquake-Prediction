{
 "cells": [
  {
   "cell_type": "code",
   "execution_count": null,
   "metadata": {},
   "outputs": [],
   "source": [
    "import os\n",
    "import numpy as np\n",
    "import pandas as pd\n",
    "from catboost import CatBoostRegressor , Pool\n",
    "from .. import Component, Representer, DataGenerator\n",
    "\n",
    "class CatBoost:\n",
    "\n",
    "    def __init__(self, num_features: int):\n",
    "        self.history = None\n",
    "        self.num_features = num_features\n",
    "        self.scaler = MinMaxScaler(feature_range=(0, self.num_features))\n",
    "        \n",
    "        self.model = CatBoostRegressor(loss_function = 'MAE',\n",
    "                                       iterations=10000,\n",
    "                                       boosting_type = 'Ordered'\n",
    "                                      )\n",
    "       \n",
    "     \n",
    "    def generate_feature_and_target(self, data: pd.core.frame.DataFrame):\n",
    "        feature_train = self.scaler.fit_transform(data[:, :self.num_features])\n",
    "        #feature_train = np.array(feature_train[:, :self.num_features])\n",
    "        target_train =  np.array(data[:, self.num_features])\n",
    "        #feature_train = np.reshape(feature_train, (feature_train.shape[0], feature_train.shape[1], 1))\n",
    "\n",
    "        return feature_train, target_train\n",
    "    \n",
    "    def _run(self, data: pd.core.frame.DataFrame):\n",
    "        feature_train, target_train = self.generate_feature_and_target(data)\n",
    "        best_score = self.gsc.fit(feature_train, target_train)\n",
    "        best_estimator = best_score.best_score_    \n",
    "        return best_score, best_estimator\n",
    "\n",
    "    #def _run(self, training_data, training_time, validation_data, validation_time):\n",
    "        #feature_train, target_train = self.generate_feature_and_target(data)\n",
    "\n",
    "        #model = CatBoostRegressor(iterations=10000, loss_function='MAE', eval_metric='MAE', boosting_type = 'Ordered' )\n",
    "        #model.fit(\n",
    "            #training_features, training_labels,\n",
    "            #eval_set=(validation_features, validation_labels),\n",
    "            #verbose=False, plot=False\n",
    "        #)\n",
    "        #best_score = model.best_score_['validation_0']['MAE']\n",
    "       \n",
    "\n",
    "\n",
    "\n",
    "\n",
    "\n",
    "\n",
    "\n",
    "\n"
   ]
  }
 ],
 "metadata": {
  "kernelspec": {
   "display_name": "Python 3",
   "language": "python",
   "name": "python3"
  },
  "language_info": {
   "codemirror_mode": {
    "name": "ipython",
    "version": 3
   },
   "file_extension": ".py",
   "mimetype": "text/x-python",
   "name": "python",
   "nbconvert_exporter": "python",
   "pygments_lexer": "ipython3",
   "version": "3.7.1"
  }
 },
 "nbformat": 4,
 "nbformat_minor": 2
}
