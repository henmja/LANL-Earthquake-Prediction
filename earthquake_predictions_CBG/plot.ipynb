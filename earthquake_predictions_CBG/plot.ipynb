{
 "cells": [
  {
   "cell_type": "markdown",
   "metadata": {},
   "source": [
    "### Function that plots seismic data and failure times using training data"
   ]
  },
  {
   "cell_type": "code",
   "execution_count": 1,
   "metadata": {},
   "outputs": [],
   "source": [
    "import pandas as pd\n",
    "import numpy as np\n",
    "import matplotlib.pyplot as plt\n",
    "\n",
    "\n",
    "def generate_plot(data: pd.core.frame.DataFrame, step: int = 1000):\n",
    "    fig, y1 = plt.subplots()\n",
    "    x_axis = np.arange(0, len(data), step)\n",
    "    \n",
    "    lns1 = y1.plot(x_axis, data.iloc[:, 0][0::step], 'k--', label='Seismic Data')\n",
    "    \n",
    "    y2 = y1.twinx()\n",
    "    lns2 = y2.plot(x_axis, data.iloc[:, 1][0::step], 'k:', label='Time To Failure')\n",
    "    \n",
    "    lns = lns1+lns2\n",
    "    labs = [l.get_label() for l in lns]\n",
    "    \n",
    "    legend_x=0.5\n",
    "    legend_y=-0.1\n",
    "    lgd = y1.legend(lns, labs, loc='upper center',bbox_to_anchor=(legend_x,legend_y))\n",
    "    text = y1.text(-0.3,1, \"Training Data\", transform=y1.transAxes)\n",
    "    y1.grid('on')\n",
    "\n",
    "    y1.set_ylabel('sequence')\n",
    "    y1.set_ylabel('Seismic Data')\n",
    "    y2.set_ylabel('sequence')\n",
    "    y2.set_ylabel('Time To Failure')\n",
    "\n",
    "    plt.savefig('failure_times.png', bbox_extra_artists=(lgd,text), bbox_inches='tight')\n",
    "    plt.close()"
   ]
  }
 ],
 "metadata": {
  "kernelspec": {
   "display_name": "Python 3",
   "language": "python",
   "name": "python3"
  },
  "language_info": {
   "codemirror_mode": {
    "name": "ipython",
    "version": 3
   },
   "file_extension": ".py",
   "mimetype": "text/x-python",
   "name": "python",
   "nbconvert_exporter": "python",
   "pygments_lexer": "ipython3",
   "version": "3.6.5"
  }
 },
 "nbformat": 4,
 "nbformat_minor": 2
}
